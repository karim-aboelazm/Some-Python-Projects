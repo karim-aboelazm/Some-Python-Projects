{
 "cells": [
  {
   "cell_type": "markdown",
   "id": "5da53167",
   "metadata": {},
   "source": [
    "# Task One"
   ]
  },
  {
   "cell_type": "code",
   "execution_count": 1,
   "id": "8eec65ef",
   "metadata": {},
   "outputs": [
    {
     "name": "stdout",
     "output_type": "stream",
     "text": [
      "f\n",
      "h\n",
      "No Missing Letters\n"
     ]
    }
   ],
   "source": [
    "import string\n",
    "# print(string.ascii_lowercase)\n",
    "def missing_letter(given_letters):\n",
    "    alpha = string.ascii_lowercase\n",
    "    start = alpha.index(given_letters[0])\n",
    "    for letter in alpha[start:]:\n",
    "        if letter not in given_letters:\n",
    "            return letter\n",
    "    return \"No Missing Letters\"\n",
    "\n",
    "print(missing_letter('abcdeghi'))\n",
    "print(missing_letter('defgi'))\n",
    "print(missing_letter('xyz'))"
   ]
  },
  {
   "cell_type": "markdown",
   "id": "aae2df72",
   "metadata": {},
   "source": [
    "# Task Two"
   ]
  },
  {
   "cell_type": "code",
   "execution_count": 27,
   "id": "c764eade",
   "metadata": {},
   "outputs": [
    {
     "name": "stdout",
     "output_type": "stream",
     "text": [
      "[4, 5, 6, 7, 8, 9, 4, 6, 5]\n",
      "[2, 3, 1, 9, 2, 5]\n"
     ]
    }
   ],
   "source": [
    "def convert(n):\n",
    "    return [int(i) for i in str(n)[::-1]]\n",
    "    \n",
    "print(convert(564987654))\n",
    "print(convert(529132))"
   ]
  },
  {
   "cell_type": "markdown",
   "id": "62ff1e52",
   "metadata": {},
   "source": [
    "# Task Three"
   ]
  },
  {
   "cell_type": "code",
   "execution_count": 36,
   "id": "dd56164c",
   "metadata": {},
   "outputs": [
    {
     "name": "stdout",
     "output_type": "stream",
     "text": [
      "Aboelaazm\n"
     ]
    }
   ],
   "source": [
    "def find_longest_word(stm):\n",
    "    stm = stm.split(' ')\n",
    "    count = 0\n",
    "    for i in stm:\n",
    "        if len(i) > count:\n",
    "            count = len(i)\n",
    "            long = i\n",
    "    return long\n",
    "print(find_longest_word('My Name Karim Mohammed Aboelaazm Nasr'))"
   ]
  },
  {
   "cell_type": "markdown",
   "id": "0ad24e44",
   "metadata": {},
   "source": [
    "# Task Four"
   ]
  },
  {
   "cell_type": "code",
   "execution_count": 55,
   "id": "41bc0804",
   "metadata": {},
   "outputs": [
    {
     "name": "stdout",
     "output_type": "stream",
     "text": [
      "Mhammed\n"
     ]
    }
   ],
   "source": [
    "def remove_char_from(stm,letter):\n",
    "    s = [i for i in stm if i != letter.upper() and i != letter.lower() ] \n",
    "    return ''.join(s)\n",
    "print(remove_char_from('Mohamooomed','o'))"
   ]
  }
 ],
 "metadata": {
  "kernelspec": {
   "display_name": "Python 3",
   "language": "python",
   "name": "python3"
  },
  "language_info": {
   "codemirror_mode": {
    "name": "ipython",
    "version": 3
   },
   "file_extension": ".py",
   "mimetype": "text/x-python",
   "name": "python",
   "nbconvert_exporter": "python",
   "pygments_lexer": "ipython3",
   "version": "3.8.8"
  }
 },
 "nbformat": 4,
 "nbformat_minor": 5
}
